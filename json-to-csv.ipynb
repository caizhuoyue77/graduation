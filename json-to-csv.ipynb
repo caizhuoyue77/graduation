{
 "cells": [
  {
   "cell_type": "code",
   "execution_count": 13,
   "id": "a84ad2e6-d7a0-4348-887f-dd9f7a50e711",
   "metadata": {},
   "outputs": [
    {
     "name": "stdout",
     "output_type": "stream",
     "text": [
      "Data successfully written to new file.\n",
      "JSON converted to CSV successfully.\n",
      "done\n",
      "removed temp file\n"
     ]
    }
   ],
   "source": [
    "import json\n",
    "import pandas as pd\n",
    "import os\n",
    "\n",
    "def remove_api_params_and_save(file_path, new_file_path):\n",
    "    try:\n",
    "        # 读取 JSON 文件\n",
    "        with open(file_path, 'r', encoding='utf-8') as file:\n",
    "            data = json.load(file)\n",
    "\n",
    "        # 删除每个条目中的 'api_params' 字段\n",
    "        for item in data:\n",
    "            if 'api_params' in item:\n",
    "                del item['api_params']\n",
    "\n",
    "        # 将修改后的数据写入新的 JSON 文件\n",
    "        with open(new_file_path, 'w', encoding='utf-8') as new_file:\n",
    "            json.dump(data, new_file, indent=4, ensure_ascii=False)\n",
    "\n",
    "        print(\"Data successfully written to new file.\")\n",
    "    except Exception as e:\n",
    "        print(f\"Error in remove_api_params_and_save: {e}\")\n",
    "\n",
    "def json_to_csv(json_file_path, csv_file_path):\n",
    "    try:\n",
    "        # 读取 JSON 文件\n",
    "        with open(json_file_path, 'r', encoding='utf-8') as file:\n",
    "            data = json.load(file)\n",
    "\n",
    "        # 从 JSON 数据创建 DataFrame\n",
    "        df = pd.DataFrame(data)\n",
    "\n",
    "        # 将 DataFrame 保存到 CSV 文件\n",
    "        df.to_csv(csv_file_path, index=False)\n",
    "\n",
    "        print(\"JSON converted to CSV successfully.\")\n",
    "    except Exception as e:\n",
    "        print(f\"Error in json_to_csv: {e}\")\n",
    "\n",
    "# 直接调用这个就可以了\n",
    "def one_step_to_csv(json_file_path, new_file_path, csv_file_path):\n",
    "    try:\n",
    "        remove_api_params_and_save(json_file_path, new_file_path)\n",
    "        json_to_csv(new_file_path, csv_file_path)\n",
    "    except Exception as e:\n",
    "        print(f\"Error in one_step_to_csv: {e}\")\n",
    "\n",
    "# 使用示例：\n",
    "        \n",
    "file_path = \"data/api_data.json\"\n",
    "temp_file_path = \"data/tmp_api_data_no_params.json\"\n",
    "csv_file_path = \"data/api_data_new.csv\"\n",
    "\n",
    "one_step_to_csv(file_path, temp_file_path, csv_file_path)\n",
    "\n",
    "print(\"done\")\n",
    "\n",
    "# 删除临时文件\n",
    "if os.path.exists(temp_file_path):\n",
    "    os.remove(temp_file_path)\n",
    "    print(\"removed temp file\")\n"
   ]
  },
  {
   "cell_type": "code",
   "execution_count": null,
   "id": "fb6275ef-c2f9-4c39-9a32-515b2c04837c",
   "metadata": {},
   "outputs": [],
   "source": []
  }
 ],
 "metadata": {
  "kernelspec": {
   "display_name": "Python 3 (ipykernel)",
   "language": "python",
   "name": "python3"
  },
  "language_info": {
   "codemirror_mode": {
    "name": "ipython",
    "version": 3
   },
   "file_extension": ".py",
   "mimetype": "text/x-python",
   "name": "python",
   "nbconvert_exporter": "python",
   "pygments_lexer": "ipython3",
   "version": "3.11.5"
  }
 },
 "nbformat": 4,
 "nbformat_minor": 5
}
